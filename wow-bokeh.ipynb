{
 "cells": [
  {
   "cell_type": "code",
   "execution_count": 12,
   "metadata": {},
   "outputs": [
    {
     "data": {
      "text/html": [
       "    <style>\n",
       "        .bk-notebook-logo {\n",
       "            display: block;\n",
       "            width: 20px;\n",
       "            height: 20px;\n",
       "            background-image: url(data:image/png;base64,iVBORw0KGgoAAAANSUhEUgAAABQAAAAUCAYAAACNiR0NAAAABHNCSVQICAgIfAhkiAAAAAlwSFlzAAALEgAACxIB0t1+/AAAABx0RVh0U29mdHdhcmUAQWRvYmUgRmlyZXdvcmtzIENTNui8sowAAAOkSURBVDiNjZRtaJVlGMd/1/08zzln5zjP1LWcU9N0NkN8m2CYjpgQYQXqSs0I84OLIC0hkEKoPtiH3gmKoiJDU7QpLgoLjLIQCpEsNJ1vqUOdO7ppbuec5+V+rj4ctwzd8IIbbi6u+8f1539dt3A78eXC7QizUF7gyV1fD1Yqg4JWz84yffhm0qkFqBogB9rM8tZdtwVsPUhWhGcFJngGeWrPzHm5oaMmkfEg1usvLFyc8jLRqDOMru7AyC8saQr7GG7f5fvDeH7Ej8CM66nIF+8yngt6HWaKh7k49Soy9nXurCi1o3qUbS3zWfrYeQDTB/Qj6kX6Ybhw4B+bOYoLKCC9H3Nu/leUTZ1JdRWkkn2ldcCamzrcf47KKXdAJllSlxAOkRgyHsGC/zRday5Qld9DyoM4/q/rUoy/CXh3jzOu3bHUVZeU+DEn8FInkPBFlu3+nW3Nw0mk6vCDiWg8CeJaxEwuHS3+z5RgY+YBR6V1Z1nxSOfoaPa4LASWxxdNp+VWTk7+4vzaou8v8PN+xo+KY2xsw6une2frhw05CTYOmQvsEhjhWjn0bmXPjpE1+kplmmkP3suftwTubK9Vq22qKmrBhpY4jvd5afdRA3wGjFAgcnTK2s4hY0/GPNIb0nErGMCRxWOOX64Z8RAC4oCXdklmEvcL8o0BfkNK4lUg9HTl+oPlQxdNo3Mg4Nv175e/1LDGzZen30MEjRUtmXSfiTVu1kK8W4txyV6BMKlbgk3lMwYCiusNy9fVfvvwMxv8Ynl6vxoByANLTWplvuj/nF9m2+PDtt1eiHPBr1oIfhCChQMBw6Aw0UulqTKZdfVvfG7VcfIqLG9bcldL/+pdWTLxLUy8Qq38heUIjh4XlzZxzQm19lLFlr8vdQ97rjZVOLf8nclzckbcD4wxXMidpX30sFd37Fv/GtwwhzhxGVAprjbg0gCAEeIgwCZyTV2Z1REEW8O4py0wsjeloKoMr6iCY6dP92H6Vw/oTyICIthibxjm/DfN9lVz8IqtqKYLUXfoKVMVQVVJOElGjrnnUt9T9wbgp8AyYKaGlqingHZU/uG2NTZSVqwHQTWkx9hxjkpWDaCg6Ckj5qebgBVbT3V3NNXMSiWSDdGV3hrtzla7J+duwPOToIg42ChPQOQjspnSlp1V+Gjdged7+8UN5CRAV7a5EdFNwCjEaBR27b3W890TE7g24NAP/mMDXRWrGoFPQI9ls/MWO2dWFAar/xcOIImbbpA3zgAAAABJRU5ErkJggg==);\n",
       "        }\n",
       "    </style>\n",
       "    <div>\n",
       "        <a href=\"https://bokeh.org\" target=\"_blank\" class=\"bk-notebook-logo\"></a>\n",
       "        <span id=\"f41453eb-83a2-41f2-b7ba-6bd925f6f92d\">Loading BokehJS ...</span>\n",
       "    </div>\n"
      ]
     },
     "metadata": {},
     "output_type": "display_data"
    },
    {
     "data": {
      "application/javascript": "'use strict';\n(function(root) {\n  function now() {\n    return new Date();\n  }\n\n  const force = true;\n\n  if (typeof root._bokeh_onload_callbacks === \"undefined\" || force === true) {\n    root._bokeh_onload_callbacks = [];\n    root._bokeh_is_loading = undefined;\n  }\n\nconst JS_MIME_TYPE = 'application/javascript';\n  const HTML_MIME_TYPE = 'text/html';\n  const EXEC_MIME_TYPE = 'application/vnd.bokehjs_exec.v0+json';\n  const CLASS_NAME = 'output_bokeh rendered_html';\n\n  /**\n   * Render data to the DOM node\n   */\n  function render(props, node) {\n    const script = document.createElement(\"script\");\n    node.appendChild(script);\n  }\n\n  /**\n   * Handle when an output is cleared or removed\n   */\n  function handleClearOutput(event, handle) {\n    function drop(id) {\n      const view = Bokeh.index.get_by_id(id)\n      if (view != null) {\n        view.model.document.clear()\n        Bokeh.index.delete(view)\n      }\n    }\n\n    const cell = handle.cell;\n\n    const id = cell.output_area._bokeh_element_id;\n    const server_id = cell.output_area._bokeh_server_id;\n\n    // Clean up Bokeh references\n    if (id != null) {\n      drop(id)\n    }\n\n    if (server_id !== undefined) {\n      // Clean up Bokeh references\n      const cmd_clean = \"from bokeh.io.state import curstate; print(curstate().uuid_to_server['\" + server_id + \"'].get_sessions()[0].document.roots[0]._id)\";\n      cell.notebook.kernel.execute(cmd_clean, {\n        iopub: {\n          output: function(msg) {\n            const id = msg.content.text.trim()\n            drop(id)\n          }\n        }\n      });\n      // Destroy server and session\n      const cmd_destroy = \"import bokeh.io.notebook as ion; ion.destroy_server('\" + server_id + \"')\";\n      cell.notebook.kernel.execute(cmd_destroy);\n    }\n  }\n\n  /**\n   * Handle when a new output is added\n   */\n  function handleAddOutput(event, handle) {\n    const output_area = handle.output_area;\n    const output = handle.output;\n\n    // limit handleAddOutput to display_data with EXEC_MIME_TYPE content only\n    if ((output.output_type != \"display_data\") || (!Object.prototype.hasOwnProperty.call(output.data, EXEC_MIME_TYPE))) {\n      return\n    }\n\n    const toinsert = output_area.element.find(\".\" + CLASS_NAME.split(' ')[0]);\n\n    if (output.metadata[EXEC_MIME_TYPE][\"id\"] !== undefined) {\n      toinsert[toinsert.length - 1].firstChild.textContent = output.data[JS_MIME_TYPE];\n      // store reference to embed id on output_area\n      output_area._bokeh_element_id = output.metadata[EXEC_MIME_TYPE][\"id\"];\n    }\n    if (output.metadata[EXEC_MIME_TYPE][\"server_id\"] !== undefined) {\n      const bk_div = document.createElement(\"div\");\n      bk_div.innerHTML = output.data[HTML_MIME_TYPE];\n      const script_attrs = bk_div.children[0].attributes;\n      for (let i = 0; i < script_attrs.length; i++) {\n        toinsert[toinsert.length - 1].firstChild.setAttribute(script_attrs[i].name, script_attrs[i].value);\n        toinsert[toinsert.length - 1].firstChild.textContent = bk_div.children[0].textContent\n      }\n      // store reference to server id on output_area\n      output_area._bokeh_server_id = output.metadata[EXEC_MIME_TYPE][\"server_id\"];\n    }\n  }\n\n  function register_renderer(events, OutputArea) {\n\n    function append_mime(data, metadata, element) {\n      // create a DOM node to render to\n      const toinsert = this.create_output_subarea(\n        metadata,\n        CLASS_NAME,\n        EXEC_MIME_TYPE\n      );\n      this.keyboard_manager.register_events(toinsert);\n      // Render to node\n      const props = {data: data, metadata: metadata[EXEC_MIME_TYPE]};\n      render(props, toinsert[toinsert.length - 1]);\n      element.append(toinsert);\n      return toinsert\n    }\n\n    /* Handle when an output is cleared or removed */\n    events.on('clear_output.CodeCell', handleClearOutput);\n    events.on('delete.Cell', handleClearOutput);\n\n    /* Handle when a new output is added */\n    events.on('output_added.OutputArea', handleAddOutput);\n\n    /**\n     * Register the mime type and append_mime function with output_area\n     */\n    OutputArea.prototype.register_mime_type(EXEC_MIME_TYPE, append_mime, {\n      /* Is output safe? */\n      safe: true,\n      /* Index of renderer in `output_area.display_order` */\n      index: 0\n    });\n  }\n\n  // register the mime type if in Jupyter Notebook environment and previously unregistered\n  if (root.Jupyter !== undefined) {\n    const events = require('base/js/events');\n    const OutputArea = require('notebook/js/outputarea').OutputArea;\n\n    if (OutputArea.prototype.mime_types().indexOf(EXEC_MIME_TYPE) == -1) {\n      register_renderer(events, OutputArea);\n    }\n  }\n  if (typeof (root._bokeh_timeout) === \"undefined\" || force === true) {\n    root._bokeh_timeout = Date.now() + 5000;\n    root._bokeh_failed_load = false;\n  }\n\n  const NB_LOAD_WARNING = {'data': {'text/html':\n     \"<div style='background-color: #fdd'>\\n\"+\n     \"<p>\\n\"+\n     \"BokehJS does not appear to have successfully loaded. If loading BokehJS from CDN, this \\n\"+\n     \"may be due to a slow or bad network connection. Possible fixes:\\n\"+\n     \"</p>\\n\"+\n     \"<ul>\\n\"+\n     \"<li>re-rerun `output_notebook()` to attempt to load from CDN again, or</li>\\n\"+\n     \"<li>use INLINE resources instead, as so:</li>\\n\"+\n     \"</ul>\\n\"+\n     \"<code>\\n\"+\n     \"from bokeh.resources import INLINE\\n\"+\n     \"output_notebook(resources=INLINE)\\n\"+\n     \"</code>\\n\"+\n     \"</div>\"}};\n\n  function display_loaded(error = null) {\n    const el = document.getElementById(\"f41453eb-83a2-41f2-b7ba-6bd925f6f92d\");\n    if (el != null) {\n      const html = (() => {\n        if (typeof root.Bokeh === \"undefined\") {\n          if (error == null) {\n            return \"BokehJS is loading ...\";\n          } else {\n            return \"BokehJS failed to load.\";\n          }\n        } else {\n          const prefix = `BokehJS ${root.Bokeh.version}`;\n          if (error == null) {\n            return `${prefix} successfully loaded.`;\n          } else {\n            return `${prefix} <b>encountered errors</b> while loading and may not function as expected.`;\n          }\n        }\n      })();\n      el.innerHTML = html;\n\n      if (error != null) {\n        const wrapper = document.createElement(\"div\");\n        wrapper.style.overflow = \"auto\";\n        wrapper.style.height = \"5em\";\n        wrapper.style.resize = \"vertical\";\n        const content = document.createElement(\"div\");\n        content.style.fontFamily = \"monospace\";\n        content.style.whiteSpace = \"pre-wrap\";\n        content.style.backgroundColor = \"rgb(255, 221, 221)\";\n        content.textContent = error.stack ?? error.toString();\n        wrapper.append(content);\n        el.append(wrapper);\n      }\n    } else if (Date.now() < root._bokeh_timeout) {\n      setTimeout(() => display_loaded(error), 100);\n    }\n  }\n\n  function run_callbacks() {\n    try {\n      root._bokeh_onload_callbacks.forEach(function(callback) {\n        if (callback != null)\n          callback();\n      });\n    } finally {\n      delete root._bokeh_onload_callbacks\n    }\n    console.debug(\"Bokeh: all callbacks have finished\");\n  }\n\n  function load_libs(css_urls, js_urls, callback) {\n    if (css_urls == null) css_urls = [];\n    if (js_urls == null) js_urls = [];\n\n    root._bokeh_onload_callbacks.push(callback);\n    if (root._bokeh_is_loading > 0) {\n      console.debug(\"Bokeh: BokehJS is being loaded, scheduling callback at\", now());\n      return null;\n    }\n    if (js_urls == null || js_urls.length === 0) {\n      run_callbacks();\n      return null;\n    }\n    console.debug(\"Bokeh: BokehJS not loaded, scheduling load and callback at\", now());\n    root._bokeh_is_loading = css_urls.length + js_urls.length;\n\n    function on_load() {\n      root._bokeh_is_loading--;\n      if (root._bokeh_is_loading === 0) {\n        console.debug(\"Bokeh: all BokehJS libraries/stylesheets loaded\");\n        run_callbacks()\n      }\n    }\n\n    function on_error(url) {\n      console.error(\"failed to load \" + url);\n    }\n\n    for (let i = 0; i < css_urls.length; i++) {\n      const url = css_urls[i];\n      const element = document.createElement(\"link\");\n      element.onload = on_load;\n      element.onerror = on_error.bind(null, url);\n      element.rel = \"stylesheet\";\n      element.type = \"text/css\";\n      element.href = url;\n      console.debug(\"Bokeh: injecting link tag for BokehJS stylesheet: \", url);\n      document.body.appendChild(element);\n    }\n\n    for (let i = 0; i < js_urls.length; i++) {\n      const url = js_urls[i];\n      const element = document.createElement('script');\n      element.onload = on_load;\n      element.onerror = on_error.bind(null, url);\n      element.async = false;\n      element.src = url;\n      console.debug(\"Bokeh: injecting script tag for BokehJS library: \", url);\n      document.head.appendChild(element);\n    }\n  };\n\n  function inject_raw_css(css) {\n    const element = document.createElement(\"style\");\n    element.appendChild(document.createTextNode(css));\n    document.body.appendChild(element);\n  }\n\n  const js_urls = [\"https://cdn.bokeh.org/bokeh/release/bokeh-3.4.1.min.js\", \"https://cdn.bokeh.org/bokeh/release/bokeh-gl-3.4.1.min.js\", \"https://cdn.bokeh.org/bokeh/release/bokeh-widgets-3.4.1.min.js\", \"https://cdn.bokeh.org/bokeh/release/bokeh-tables-3.4.1.min.js\", \"https://cdn.bokeh.org/bokeh/release/bokeh-mathjax-3.4.1.min.js\"];\n  const css_urls = [];\n\n  const inline_js = [    function(Bokeh) {\n      Bokeh.set_log_level(\"info\");\n    },\nfunction(Bokeh) {\n    }\n  ];\n\n  function run_inline_js() {\n    if (root.Bokeh !== undefined || force === true) {\n      try {\n            for (let i = 0; i < inline_js.length; i++) {\n      inline_js[i].call(root, root.Bokeh);\n    }\n\n      } catch (error) {display_loaded(error);throw error;\n      }if (force === true) {\n        display_loaded();\n      }} else if (Date.now() < root._bokeh_timeout) {\n      setTimeout(run_inline_js, 100);\n    } else if (!root._bokeh_failed_load) {\n      console.log(\"Bokeh: BokehJS failed to load within specified timeout.\");\n      root._bokeh_failed_load = true;\n    } else if (force !== true) {\n      const cell = $(document.getElementById(\"f41453eb-83a2-41f2-b7ba-6bd925f6f92d\")).parents('.cell').data().cell;\n      cell.output_area.append_execute_result(NB_LOAD_WARNING)\n    }\n  }\n\n  if (root._bokeh_is_loading === 0) {\n    console.debug(\"Bokeh: BokehJS loaded, going straight to plotting\");\n    run_inline_js();\n  } else {\n    load_libs(css_urls, js_urls, function() {\n      console.debug(\"Bokeh: BokehJS plotting callback run at\", now());\n      run_inline_js();\n    });\n  }\n}(window));",
      "application/vnd.bokehjs_load.v0+json": ""
     },
     "metadata": {},
     "output_type": "display_data"
    }
   ],
   "source": [
    "import pandas as pd\n",
    "import numpy as np\n",
    "from datetime import datetime\n",
    "\n",
    "from bokeh.plotting import figure, show\n",
    "from bokeh.models import ColumnDataSource, HoverTool, Legend, LegendItem, Title, CategoricalTicker\n",
    "from bokeh.transform import factor_cmap\n",
    "from bokeh.io import output_notebook, export_png, export_svg\n",
    "\n",
    "import assets\n",
    "\n",
    "output_notebook()"
   ]
  },
  {
   "cell_type": "markdown",
   "metadata": {},
   "source": [
    "## WOW 2018\n",
    "\n",
    "### Week 01: Looks vs. Personality"
   ]
  },
  {
   "cell_type": "code",
   "execution_count": 3,
   "metadata": {},
   "outputs": [
    {
     "data": {
      "text/html": [
       "<div>\n",
       "<style scoped>\n",
       "    .dataframe tbody tr th:only-of-type {\n",
       "        vertical-align: middle;\n",
       "    }\n",
       "\n",
       "    .dataframe tbody tr th {\n",
       "        vertical-align: top;\n",
       "    }\n",
       "\n",
       "    .dataframe thead th {\n",
       "        text-align: right;\n",
       "    }\n",
       "</style>\n",
       "<table border=\"1\" class=\"dataframe\">\n",
       "  <thead>\n",
       "    <tr style=\"text-align: right;\">\n",
       "      <th></th>\n",
       "      <th>Nationality</th>\n",
       "      <th>Gender</th>\n",
       "      <th>Value</th>\n",
       "      <th>Measure</th>\n",
       "    </tr>\n",
       "  </thead>\n",
       "  <tbody>\n",
       "    <tr>\n",
       "      <th>2</th>\n",
       "      <td>Danish</td>\n",
       "      <td>Men</td>\n",
       "      <td>77</td>\n",
       "      <td>Ranked personality higher than looks</td>\n",
       "    </tr>\n",
       "    <tr>\n",
       "      <th>6</th>\n",
       "      <td>Danish</td>\n",
       "      <td>Women</td>\n",
       "      <td>93</td>\n",
       "      <td>Ranked personality higher than looks</td>\n",
       "    </tr>\n",
       "    <tr>\n",
       "      <th>10</th>\n",
       "      <td>Finnish</td>\n",
       "      <td>Men</td>\n",
       "      <td>77</td>\n",
       "      <td>Ranked personality higher than looks</td>\n",
       "    </tr>\n",
       "    <tr>\n",
       "      <th>14</th>\n",
       "      <td>Finnish</td>\n",
       "      <td>Women</td>\n",
       "      <td>93</td>\n",
       "      <td>Ranked personality higher than looks</td>\n",
       "    </tr>\n",
       "    <tr>\n",
       "      <th>18</th>\n",
       "      <td>British</td>\n",
       "      <td>Men</td>\n",
       "      <td>80</td>\n",
       "      <td>Ranked personality higher than looks</td>\n",
       "    </tr>\n",
       "  </tbody>\n",
       "</table>\n",
       "</div>"
      ],
      "text/plain": [
       "   Nationality Gender  Value                               Measure\n",
       "2       Danish    Men     77  Ranked personality higher than looks\n",
       "6       Danish  Women     93  Ranked personality higher than looks\n",
       "10     Finnish    Men     77  Ranked personality higher than looks\n",
       "14     Finnish  Women     93  Ranked personality higher than looks\n",
       "18     British    Men     80  Ranked personality higher than looks"
      ]
     },
     "execution_count": 3,
     "metadata": {},
     "output_type": "execute_result"
    }
   ],
   "source": [
    "df08w01 = pd.read_csv(assets.DATA_18W01).query('Measure==\"Ranked personality higher than looks\"')\n",
    "df08w01.head()"
   ]
  },
  {
   "cell_type": "code",
   "execution_count": 22,
   "metadata": {},
   "outputs": [
    {
     "data": {
      "text/html": [
       "\n",
       "  <div id=\"ea787893-0e10-42bf-8df9-4b67c2a21848\" data-root-id=\"p2172\" style=\"display: contents;\"></div>\n"
      ]
     },
     "metadata": {},
     "output_type": "display_data"
    },
    {
     "data": {
      "application/javascript": "(function(root) {\n  function embed_document(root) {\n  const docs_json = {\"d9147bce-904e-47ae-9c34-960f683d0d32\":{\"version\":\"3.4.1\",\"title\":\"Bokeh Application\",\"roots\":[{\"type\":\"object\",\"name\":\"Figure\",\"id\":\"p2172\",\"attributes\":{\"height\":700,\"x_range\":{\"type\":\"object\",\"name\":\"Range1d\",\"id\":\"p2181\",\"attributes\":{\"end\":100}},\"y_range\":{\"type\":\"object\",\"name\":\"FactorRange\",\"id\":\"p2182\",\"attributes\":{\"factors\":[\"Thai\",\"Vietnamese\",\"Indonesian\",\"Indian\",\"Hong Kong\",\"UAE\",\"Saudi Arabian\",\"French\",\"Malaysian\",\"Filipino\",\"Egyptian\",\"American\",\"Australian\",\"Singaporean\",\"German\",\"British\",\"Norwegian\",\"Finnish\",\"Swedish\",\"Danish\"]}},\"x_scale\":{\"type\":\"object\",\"name\":\"LinearScale\",\"id\":\"p2183\"},\"y_scale\":{\"type\":\"object\",\"name\":\"CategoricalScale\",\"id\":\"p2184\"},\"title\":{\"type\":\"object\",\"name\":\"Title\",\"id\":\"p2179\"},\"renderers\":[{\"type\":\"object\",\"name\":\"GlyphRenderer\",\"id\":\"p2212\",\"attributes\":{\"data_source\":{\"type\":\"object\",\"name\":\"ColumnDataSource\",\"id\":\"p2169\",\"attributes\":{\"selected\":{\"type\":\"object\",\"name\":\"Selection\",\"id\":\"p2170\",\"attributes\":{\"indices\":[],\"line_indices\":[]}},\"selection_policy\":{\"type\":\"object\",\"name\":\"UnionRenderers\",\"id\":\"p2171\"},\"data\":{\"type\":\"map\",\"entries\":[[\"index\",{\"type\":\"ndarray\",\"array\":{\"type\":\"bytes\",\"data\":\"AAAAAAEAAAACAAAA\"},\"shape\":[3],\"dtype\":\"int32\",\"order\":\"little\"}],[\"Nationality\",{\"type\":\"ndarray\",\"array\":[\"Egyptian\",\"Saudi Arabian\",\"Vietnamese\"],\"shape\":[3],\"dtype\":\"object\",\"order\":\"little\"}],[\"Men\",{\"type\":\"ndarray\",\"array\":{\"type\":\"bytes\",\"data\":\"NwAAADQAAAAuAAAA\"},\"shape\":[3],\"dtype\":\"int32\",\"order\":\"little\"}],[\"Women\",{\"type\":\"ndarray\",\"array\":{\"type\":\"bytes\",\"data\":\"UwAAAE8AAABAAAAA\"},\"shape\":[3],\"dtype\":\"int32\",\"order\":\"little\"}]]}}},\"view\":{\"type\":\"object\",\"name\":\"CDSView\",\"id\":\"p2213\",\"attributes\":{\"filter\":{\"type\":\"object\",\"name\":\"AllIndices\",\"id\":\"p2214\"}}},\"glyph\":{\"type\":\"object\",\"name\":\"Segment\",\"id\":\"p2209\",\"attributes\":{\"x0\":{\"type\":\"field\",\"field\":\"Men\"},\"y0\":{\"type\":\"field\",\"field\":\"Nationality\"},\"x1\":{\"type\":\"field\",\"field\":\"Women\"},\"y1\":{\"type\":\"field\",\"field\":\"Nationality\"},\"line_width\":{\"type\":\"value\",\"value\":2}}},\"nonselection_glyph\":{\"type\":\"object\",\"name\":\"Segment\",\"id\":\"p2210\",\"attributes\":{\"x0\":{\"type\":\"field\",\"field\":\"Men\"},\"y0\":{\"type\":\"field\",\"field\":\"Nationality\"},\"x1\":{\"type\":\"field\",\"field\":\"Women\"},\"y1\":{\"type\":\"field\",\"field\":\"Nationality\"},\"line_alpha\":{\"type\":\"value\",\"value\":0.1},\"line_width\":{\"type\":\"value\",\"value\":2}}},\"muted_glyph\":{\"type\":\"object\",\"name\":\"Segment\",\"id\":\"p2211\",\"attributes\":{\"x0\":{\"type\":\"field\",\"field\":\"Men\"},\"y0\":{\"type\":\"field\",\"field\":\"Nationality\"},\"x1\":{\"type\":\"field\",\"field\":\"Women\"},\"y1\":{\"type\":\"field\",\"field\":\"Nationality\"},\"line_alpha\":{\"type\":\"value\",\"value\":0.2},\"line_width\":{\"type\":\"value\",\"value\":2}}}}},{\"type\":\"object\",\"name\":\"GlyphRenderer\",\"id\":\"p2222\",\"attributes\":{\"data_source\":{\"type\":\"object\",\"name\":\"ColumnDataSource\",\"id\":\"p2166\",\"attributes\":{\"selected\":{\"type\":\"object\",\"name\":\"Selection\",\"id\":\"p2167\",\"attributes\":{\"indices\":[],\"line_indices\":[]}},\"selection_policy\":{\"type\":\"object\",\"name\":\"UnionRenderers\",\"id\":\"p2168\"},\"data\":{\"type\":\"map\",\"entries\":[[\"index\",{\"type\":\"ndarray\",\"array\":{\"type\":\"bytes\",\"data\":\"AgAAAAYAAAAKAAAADgAAABIAAAAWAAAAGgAAAB4AAAAiAAAAJgAAACoAAAAuAAAAMgAAADYAAAA6AAAAPgAAAEIAAABGAAAASgAAAE4AAABSAAAAVgAAAFoAAABeAAAAYgAAAGYAAABqAAAAbgAAAHIAAAB2AAAAegAAAH4AAACCAAAAhgAAAIoAAACOAAAAkgAAAJYAAACaAAAAngAAAA==\"},\"shape\":[40],\"dtype\":\"int32\",\"order\":\"little\"}],[\"Nationality\",{\"type\":\"ndarray\",\"array\":[\"Danish\",\"Danish\",\"Finnish\",\"Finnish\",\"British\",\"British\",\"American\",\"American\",\"German\",\"German\",\"Australian\",\"Australian\",\"Malaysian\",\"Malaysian\",\"Filipino\",\"Filipino\",\"French\",\"French\",\"Hong Kong\",\"Hong Kong\",\"Indonesian\",\"Indonesian\",\"Saudi Arabian\",\"Saudi Arabian\",\"UAE\",\"UAE\",\"Singaporean\",\"Singaporean\",\"Thai\",\"Thai\",\"Vietnamese\",\"Vietnamese\",\"Swedish\",\"Swedish\",\"Indian\",\"Indian\",\"Egyptian\",\"Egyptian\",\"Norwegian\",\"Norwegian\"],\"shape\":[40],\"dtype\":\"object\",\"order\":\"little\"}],[\"Gender\",{\"type\":\"ndarray\",\"array\":[\"Men\",\"Women\",\"Men\",\"Women\",\"Men\",\"Women\",\"Men\",\"Women\",\"Men\",\"Women\",\"Men\",\"Women\",\"Men\",\"Women\",\"Men\",\"Women\",\"Men\",\"Women\",\"Men\",\"Women\",\"Men\",\"Women\",\"Men\",\"Women\",\"Men\",\"Women\",\"Men\",\"Women\",\"Men\",\"Women\",\"Men\",\"Women\",\"Men\",\"Women\",\"Men\",\"Women\",\"Men\",\"Women\",\"Men\",\"Women\"],\"shape\":[40],\"dtype\":\"object\",\"order\":\"little\"}],[\"Value\",{\"type\":\"ndarray\",\"array\":{\"type\":\"bytes\",\"data\":\"TQAAAF0AAABNAAAAXQAAAFAAAABbAAAARQAAAFQAAABJAAAAWAAAAEgAAABVAAAAQwAAAFIAAABGAAAAUgAAAD8AAABRAAAAOwAAAEwAAAA0AAAARgAAADQAAABPAAAAOQAAAEwAAABIAAAAVQAAADYAAAA9AAAALgAAAEAAAABQAAAAXQAAADoAAABLAAAANwAAAFMAAABRAAAAXAAAAA==\"},\"shape\":[40],\"dtype\":\"int32\",\"order\":\"little\"}]]}}},\"view\":{\"type\":\"object\",\"name\":\"CDSView\",\"id\":\"p2223\",\"attributes\":{\"filter\":{\"type\":\"object\",\"name\":\"AllIndices\",\"id\":\"p2224\"}}},\"glyph\":{\"type\":\"object\",\"name\":\"Scatter\",\"id\":\"p2219\",\"attributes\":{\"x\":{\"type\":\"field\",\"field\":\"Value\"},\"y\":{\"type\":\"field\",\"field\":\"Nationality\"},\"size\":{\"type\":\"value\",\"value\":18},\"line_color\":{\"type\":\"value\",\"value\":\"#449EA0\"},\"line_width\":{\"type\":\"value\",\"value\":3},\"fill_color\":{\"type\":\"field\",\"field\":\"Gender\",\"transform\":{\"type\":\"object\",\"name\":\"CategoricalColorMapper\",\"id\":\"p2215\",\"attributes\":{\"palette\":[\"#449EA0\",\"white\"],\"factors\":[\"Men\",\"Women\"]}}}}},\"nonselection_glyph\":{\"type\":\"object\",\"name\":\"Scatter\",\"id\":\"p2220\",\"attributes\":{\"x\":{\"type\":\"field\",\"field\":\"Value\"},\"y\":{\"type\":\"field\",\"field\":\"Nationality\"},\"size\":{\"type\":\"value\",\"value\":18},\"line_color\":{\"type\":\"value\",\"value\":\"#449EA0\"},\"line_alpha\":{\"type\":\"value\",\"value\":0.1},\"line_width\":{\"type\":\"value\",\"value\":3},\"fill_color\":{\"type\":\"field\",\"field\":\"Gender\",\"transform\":{\"id\":\"p2215\"}},\"fill_alpha\":{\"type\":\"value\",\"value\":0.1},\"hatch_alpha\":{\"type\":\"value\",\"value\":0.1}}},\"muted_glyph\":{\"type\":\"object\",\"name\":\"Scatter\",\"id\":\"p2221\",\"attributes\":{\"x\":{\"type\":\"field\",\"field\":\"Value\"},\"y\":{\"type\":\"field\",\"field\":\"Nationality\"},\"size\":{\"type\":\"value\",\"value\":18},\"line_color\":{\"type\":\"value\",\"value\":\"#449EA0\"},\"line_alpha\":{\"type\":\"value\",\"value\":0.2},\"line_width\":{\"type\":\"value\",\"value\":3},\"fill_color\":{\"type\":\"field\",\"field\":\"Gender\",\"transform\":{\"id\":\"p2215\"}},\"fill_alpha\":{\"type\":\"value\",\"value\":0.2},\"hatch_alpha\":{\"type\":\"value\",\"value\":0.2}}}}}],\"toolbar\":{\"type\":\"object\",\"name\":\"Toolbar\",\"id\":\"p2180\",\"attributes\":{\"tools\":[{\"type\":\"object\",\"name\":\"PanTool\",\"id\":\"p2195\"},{\"type\":\"object\",\"name\":\"WheelZoomTool\",\"id\":\"p2196\",\"attributes\":{\"renderers\":\"auto\"}},{\"type\":\"object\",\"name\":\"BoxZoomTool\",\"id\":\"p2197\",\"attributes\":{\"overlay\":{\"type\":\"object\",\"name\":\"BoxAnnotation\",\"id\":\"p2198\",\"attributes\":{\"syncable\":false,\"level\":\"overlay\",\"visible\":false,\"left\":{\"type\":\"number\",\"value\":\"nan\"},\"right\":{\"type\":\"number\",\"value\":\"nan\"},\"top\":{\"type\":\"number\",\"value\":\"nan\"},\"bottom\":{\"type\":\"number\",\"value\":\"nan\"},\"left_units\":\"canvas\",\"right_units\":\"canvas\",\"top_units\":\"canvas\",\"bottom_units\":\"canvas\",\"line_color\":\"black\",\"line_alpha\":1.0,\"line_width\":2,\"line_dash\":[4,4],\"fill_color\":\"lightgrey\",\"fill_alpha\":0.5}}}},{\"type\":\"object\",\"name\":\"SaveTool\",\"id\":\"p2203\"},{\"type\":\"object\",\"name\":\"ResetTool\",\"id\":\"p2204\"},{\"type\":\"object\",\"name\":\"HelpTool\",\"id\":\"p2205\"},{\"type\":\"object\",\"name\":\"HoverTool\",\"id\":\"p2225\",\"attributes\":{\"renderers\":[{\"id\":\"p2222\"}],\"tooltips\":\"<b>@Nationality</b><br>@Gender: <b>@Value</b>\"}}]}},\"left\":[{\"type\":\"object\",\"name\":\"CategoricalAxis\",\"id\":\"p2190\",\"attributes\":{\"ticker\":{\"type\":\"object\",\"name\":\"CategoricalTicker\",\"id\":\"p2191\"},\"formatter\":{\"type\":\"object\",\"name\":\"CategoricalTickFormatter\",\"id\":\"p2192\"},\"major_label_policy\":{\"type\":\"object\",\"name\":\"AllLabels\",\"id\":\"p2193\"}}}],\"above\":[{\"type\":\"object\",\"name\":\"Legend\",\"id\":\"p2228\",\"attributes\":{\"location\":\"top_center\",\"orientation\":\"horizontal\",\"border_line_alpha\":0,\"background_fill_alpha\":0,\"spacing\":40,\"items\":[{\"type\":\"object\",\"name\":\"LegendItem\",\"id\":\"p2226\",\"attributes\":{\"label\":{\"type\":\"value\",\"value\":\"Men\"},\"renderers\":[{\"id\":\"p2222\"}],\"index\":0}},{\"type\":\"object\",\"name\":\"LegendItem\",\"id\":\"p2227\",\"attributes\":{\"label\":{\"type\":\"value\",\"value\":\"Women\"},\"renderers\":[{\"id\":\"p2222\"}],\"index\":1}}]}},{\"type\":\"object\",\"name\":\"Title\",\"id\":\"p2230\",\"attributes\":{\"text\":\"% of people who ranked a romantic partner having a personality they liked as more important\\nthan them being good looking\",\"text_font_style\":\"normal\",\"offset\":-55,\"standoff\":-5}},{\"type\":\"object\",\"name\":\"Title\",\"id\":\"p2229\",\"attributes\":{\"text\":\"Across the world women are more likely than men to value\\npersonality over looks\",\"text_font_size\":\"20px\",\"offset\":-55}}],\"below\":[{\"type\":\"object\",\"name\":\"LinearAxis\",\"id\":\"p2185\",\"attributes\":{\"ticker\":{\"type\":\"object\",\"name\":\"BasicTicker\",\"id\":\"p2186\",\"attributes\":{\"mantissas\":[1,2,5]}},\"formatter\":{\"type\":\"object\",\"name\":\"BasicTickFormatter\",\"id\":\"p2187\"},\"major_label_policy\":{\"type\":\"object\",\"name\":\"AllLabels\",\"id\":\"p2188\"}}}],\"center\":[{\"type\":\"object\",\"name\":\"Grid\",\"id\":\"p2189\",\"attributes\":{\"axis\":{\"id\":\"p2185\"}}},{\"type\":\"object\",\"name\":\"Grid\",\"id\":\"p2194\",\"attributes\":{\"dimension\":1,\"axis\":{\"id\":\"p2190\"}}}]}}]}};\n  const render_items = [{\"docid\":\"d9147bce-904e-47ae-9c34-960f683d0d32\",\"roots\":{\"p2172\":\"ea787893-0e10-42bf-8df9-4b67c2a21848\"},\"root_ids\":[\"p2172\"]}];\n  void root.Bokeh.embed.embed_items_notebook(docs_json, render_items);\n  }\n  if (root.Bokeh !== undefined) {\n    embed_document(root);\n  } else {\n    let attempts = 0;\n    const timer = setInterval(function(root) {\n      if (root.Bokeh !== undefined) {\n        clearInterval(timer);\n        embed_document(root);\n      } else {\n        attempts++;\n        if (attempts > 100) {\n          clearInterval(timer);\n          console.log(\"Bokeh: ERROR: Unable to run BokehJS code because BokehJS library is missing\");\n        }\n      }\n    }, 10, root)\n  }\n})(window);",
      "application/vnd.bokehjs_exec.v0+json": ""
     },
     "metadata": {
      "application/vnd.bokehjs_exec.v0+json": {
       "id": "p2172"
      }
     },
     "output_type": "display_data"
    }
   ],
   "source": [
    "df08w01_filtered = df08w01.iloc[:, [0,1,2]]\n",
    "SIZE = 18\n",
    "CIRCLE_COLOR = '#449EA0'\n",
    "\n",
    "source = ColumnDataSource(df08w01_filtered)\n",
    "\n",
    "filter_cond = df08w01_filtered['Nationality'].isin(['Egyptian', 'Saudi Arabian', 'Vietnamese'])\n",
    "line_source = ColumnDataSource(df08w01_filtered.loc[filter_cond].pivot(\n",
    "    index='Nationality', columns='Gender', values='Value'\n",
    ").reset_index())\n",
    "\n",
    "y_range = df08w01_filtered.query('Gender==\"Women\"').sort_values(by=\"Value\")['Nationality']\n",
    "\n",
    "p = figure(\n",
    "    y_range=y_range,\n",
    "    x_range=[0, 100],\n",
    "    height=700,\n",
    ")\n",
    "\n",
    "p.segment(\n",
    "    x0='Men', x1='Women', \n",
    "    y0='Nationality', y1='Nationality', \n",
    "    line_width=2, color='black',\n",
    "    source=line_source\n",
    ")\n",
    "\n",
    "circle = p.scatter(\n",
    "    x='Value', y='Nationality',\n",
    "    size=SIZE, #legend_field='Gender',\n",
    "    line_color=CIRCLE_COLOR, line_width=3,\n",
    "    fill_color=factor_cmap('Gender', palette=[CIRCLE_COLOR, 'white'], factors=['Men', 'Women']),\n",
    "    source=source\n",
    ")\n",
    "\n",
    "hover = HoverTool(tooltips=\"<b>@Nationality</b><br>@Gender: <b>@Value</b>\", renderers=[circle])\n",
    "p.add_tools(hover)\n",
    "\n",
    "legend = Legend(\n",
    "    items=[\n",
    "        LegendItem(label=\"Men\", renderers=[circle], index=0),\n",
    "        LegendItem(label=\"Women\", renderers=[circle], index=1)\n",
    "        ], \n",
    "    orientation=\"horizontal\", \n",
    "    background_fill_alpha=0,\n",
    "    border_line_alpha=0,\n",
    "    spacing=40,\n",
    "    location=\"top_center\",\n",
    ")\n",
    "\n",
    "title = Title(\n",
    "    text=\"Across the world women are more likely than men to value\\npersonality over looks\",\n",
    "    text_font_size=\"20px\",\n",
    "    offset=-55,\n",
    "    standoff=10,\n",
    ")\n",
    "subtitle = Title(\n",
    "    text=(\"% of people who ranked a romantic partner having a personality \"\n",
    "          \"they liked as more important\\nthan them being good looking\"),\n",
    "    offset=-55,\n",
    "    standoff=-5,\n",
    "    text_font_style=\"normal\"\n",
    ")\n",
    "\n",
    "p.add_layout(legend, 'above')\n",
    "p.add_layout(subtitle, 'above')\n",
    "p.add_layout(title, 'above')\n",
    "\n",
    "\n",
    "show(p)"
   ]
  },
  {
   "cell_type": "code",
   "execution_count": null,
   "metadata": {},
   "outputs": [],
   "source": [
    "CategoricalTicker()"
   ]
  }
 ],
 "metadata": {
  "kernelspec": {
   "display_name": "Python 3",
   "language": "python",
   "name": "python3"
  },
  "language_info": {
   "codemirror_mode": {
    "name": "ipython",
    "version": 3
   },
   "file_extension": ".py",
   "mimetype": "text/x-python",
   "name": "python",
   "nbconvert_exporter": "python",
   "pygments_lexer": "ipython3",
   "version": "3.11.9"
  }
 },
 "nbformat": 4,
 "nbformat_minor": 2
}
